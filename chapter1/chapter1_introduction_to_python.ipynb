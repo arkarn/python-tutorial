{
 "cells": [
  {
   "cell_type": "markdown",
   "metadata": {},
   "source": [
    "# Chapter 1: Introduction to Python
",
    "
",
    "## Overview of Python
",
    "Python is a high-level, interpreted programming language known for its simplicity and readability. It is widely used for web development, data analysis, artificial intelligence, scientific computing, and more.
",
    "
",
    "## Basic Syntax
",
    "In Python, you can create variables to store data. Python supports various data types, including integers, floats, strings, and booleans.
",
    "
",
    "## Practice Exercises
",
    "1. Create a variable `x` and assign it the value `10`. Print the value of `x`.
",
    "2. Create a string variable `name` and assign it your name. Print a greeting message using the `name` variable.
",
    "3. Write a function that takes two numbers as arguments and returns their sum.
"
   ]
  }
 ],
 "metadata": {
  "kernelspec": {
   "display_name": "Python 3",
   "language": "python",
   "name": "python3"
  },
  "language_info": {
   "codemirror_mode": {
    "name": "ipython",
    "version": 3
   },
   "file_extension": ".py",
   "mimetype": "text/x-python",
   "name": "python",
   "nbconvert_exporter": "python",
   "pygments_lexer": "ipython3",
   "version": "3.8.5"
  }
 },
 "nbformat": 4,
 "nbformat_minor": 4
}
