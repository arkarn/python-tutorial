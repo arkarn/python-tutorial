{
 "cells": [
  {
   "cell_type": "markdown",
   "metadata": {},
   "source": [
    "# Chapter 3: Data Structures
",
    "
",
    "## Overview of Lists, Tuples, Dictionaries, and Sets
",
    "In Python, data structures are used to store and organize data. The main data structures include lists, tuples, dictionaries, and sets.
",
    "
",
    "## Practice Exercises
",
    "1. Create a list of your favorite colors and print the list.
",
    "2. Create a tuple with three elements and print the second element.
",
    "3. Create a dictionary with keys as names and values as ages. Print the age of one of the names.
",
    "4. Create a set of unique numbers and print the set.
",
    "5. Add a new number to the set and print the updated set.
"
   ]
  }
 ],
 "metadata": {
  "kernelspec": {
   "display_name": "Python 3",
   "language": "python",
   "name": "python3"
  },
  "language_info": {
   "codemirror_mode": {
    "name": "ipython",
    "version": 3
   },
   "file_extension": ".py",
   "mimetype": "text/x-python",
   "name": "python",
   "nbconvert_exporter": "python",
   "pygments_lexer": "ipython3",
   "version": "3.8.5"
  }
 },
 "nbformat": 4,
 "nbformat_minor": 4
}
