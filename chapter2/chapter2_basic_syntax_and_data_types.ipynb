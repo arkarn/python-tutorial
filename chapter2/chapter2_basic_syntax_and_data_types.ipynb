{
 "cells": [
  {
   "cell_type": "markdown",
   "metadata": {},
   "source": [
    "# Chapter 2: Basic Syntax and Data Types
",
    "
",
    "## Overview of Variables and Data Types
",
    "In Python, variables are used to store data values. Python has various data types, including integers, floats, strings, and booleans.
",
    "
",
    "## Basic Operators
",
    "Python supports several operators for performing operations on variables and values.
",
    "
",
    "## Practice Exercises
",
    "1. Create a variable `x` and assign it the value `10`. Print the value of `x`.
",
    "2. Create a string variable `name` and assign it your name. Print a greeting message using the `name` variable.
",
    "3. Write a function that takes two numbers as arguments and returns their sum.
",
    "4. Create a list of your favorite fruits and print the list.
",
    "5. Use a loop to print each fruit in the list on a new line.
"
   ]
  }
 ],
 "metadata": {
  "kernelspec": {
   "display_name": "Python 3",
   "language": "python",
   "name": "python3"
  },
  "language_info": {
   "codemirror_mode": {
    "name": "ipython",
    "version": 3
   },
   "file_extension": ".py",
   "mimetype": "text/x-python",
   "name": "python",
   "nbconvert_exporter": "python",
   "pygments_lexer": "ipython3",
   "version": "3.8.5"
  }
 },
 "nbformat": 4,
 "nbformat_minor": 4
}
